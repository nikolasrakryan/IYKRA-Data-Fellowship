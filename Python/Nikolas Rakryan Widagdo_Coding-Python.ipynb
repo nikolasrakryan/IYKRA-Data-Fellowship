{
  "nbformat": 4,
  "nbformat_minor": 0,
  "metadata": {
    "colab": {
      "name": "Nikolas Rakryan Widagdo_Coding-Python.ipynb",
      "provenance": []
    },
    "kernelspec": {
      "name": "python3",
      "display_name": "Python 3"
    },
    "language_info": {
      "name": "python"
    }
  },
  "cells": [
    {
      "cell_type": "code",
      "metadata": {
        "id": "6WB8CTMmdf6M"
      },
      "source": [
        ""
      ],
      "execution_count": null,
      "outputs": []
    },
    {
      "cell_type": "code",
      "metadata": {
        "id": "kB25CuSCdh3s"
      },
      "source": [
        "#created in Google Colaboratory by NIkolas Rakryan Widagdo"
      ],
      "execution_count": 1,
      "outputs": []
    },
    {
      "cell_type": "markdown",
      "metadata": {
        "id": "DFNIfwSfDNXw"
      },
      "source": [
        "Answer to question 1"
      ]
    },
    {
      "cell_type": "code",
      "metadata": {
        "id": "twg6zkQZdh9Y"
      },
      "source": [
        "import sqlite3 as sql\n",
        "from sqlite3 import Error"
      ],
      "execution_count": 2,
      "outputs": []
    },
    {
      "cell_type": "code",
      "metadata": {
        "id": "17agfczJdh_1"
      },
      "source": [
        "con=sql.connect('database.db')\n",
        "cur=con.cursor()"
      ],
      "execution_count": 3,
      "outputs": []
    },
    {
      "cell_type": "code",
      "metadata": {
        "id": "6zl3wLBOdiEa"
      },
      "source": [
        "def sql_connection():\n",
        "  try:\n",
        "    con=sql.connect('database.db')\n",
        "    return con\n",
        "  except Error:\n",
        "    print(Error)\n",
        "\n",
        "def sql_table(con):\n",
        "  cur.execute(\"\"\"CREATE TABLE IF NOT EXISTS transactions\n",
        "              (tx_id integer,id integer, insert_time text,\n",
        "              tx_amount real, tx_type text, status text)\"\"\")\n",
        "  con.commit()\n",
        "\n",
        "con=sql_connection()\n",
        "sql_table(con)"
      ],
      "execution_count": 4,
      "outputs": []
    },
    {
      "cell_type": "code",
      "metadata": {
        "id": "A0E8qJIBdiGp"
      },
      "source": [
        "def sql_insert(con,entities):\n",
        "  cur=con.cursor()\n",
        "  cur.executemany('INSERT INTO transactions(tx_id ,id, insert_time, tx_amount, tx_type, status) VALUES(?,?,?,?,?,?)',entities)\n",
        "  con.commit()\n",
        "\n",
        "entities=[(10,1,\"2020-06-20 09:10\",50,\"buy\",\"open\"),\n",
        "          (11,2,\"2020-06-20 09:22\",57,\"sell\",\"close\"),\n",
        "          (12,6,\"2020-06-20 09:30\",100,\"buy\",\"close\"),\n",
        "          (13,3,\"2020-06-20 09:42\",6,\"buy\",\"open\"),\n",
        "          (14,5,\"2020-06-20 09:45\",23,\"sell\",\"close\"),\n",
        "          (15,2,\"2020-06-20 10:30\",4,\"buy\",\"close\"),\n",
        "          (16,1,\"2020-06-20 10:33\",55,\"sell\",\"open\"),\n",
        "          (17,4,\"2020-06-20 10:55\",765,\"buy\",\"open\"),\n",
        "          (18,3,\"2020-06-20 11:30\",6,\"sell\",\"open\"),\n",
        "          (19,1,\"2020-06-20 11:40\",34,\"sell\",\"open\")]\n",
        "\n",
        "sql_insert(con,entities)"
      ],
      "execution_count": 5,
      "outputs": []
    },
    {
      "cell_type": "code",
      "metadata": {
        "colab": {
          "base_uri": "https://localhost:8080/"
        },
        "id": "6rYznBCYdiI9",
        "outputId": "18767aa9-597c-41aa-90c0-7348b7e80d18"
      },
      "source": [
        "def sql_fetch_latest(con):\n",
        "  cur=con.cursor()\n",
        "  cur.execute(\"\"\"SELECT * FROM transactions \n",
        "              GROUP BY id \n",
        "              HAVING insert_time=max(insert_time) \n",
        "              ORDER BY insert_time\"\"\")\n",
        "  rows=cur.fetchall()\n",
        "  for row in rows:\n",
        "    print(row)\n",
        "sql_fetch_latest(con)"
      ],
      "execution_count": 6,
      "outputs": [
        {
          "output_type": "stream",
          "text": [
            "(12, 6, '2020-06-20 09:30', 100.0, 'buy', 'close')\n",
            "(14, 5, '2020-06-20 09:45', 23.0, 'sell', 'close')\n",
            "(15, 2, '2020-06-20 10:30', 4.0, 'buy', 'close')\n",
            "(17, 4, '2020-06-20 10:55', 765.0, 'buy', 'open')\n",
            "(18, 3, '2020-06-20 11:30', 6.0, 'sell', 'open')\n",
            "(19, 1, '2020-06-20 11:40', 34.0, 'sell', 'open')\n"
          ],
          "name": "stdout"
        }
      ]
    },
    {
      "cell_type": "code",
      "metadata": {
        "id": "_8S20RgMdiLG"
      },
      "source": [
        ""
      ],
      "execution_count": 6,
      "outputs": []
    },
    {
      "cell_type": "markdown",
      "metadata": {
        "id": "RSB3mCjPDTKJ"
      },
      "source": [
        "Answer to question 2"
      ]
    },
    {
      "cell_type": "code",
      "metadata": {
        "id": "eLG4x1Hld0O6"
      },
      "source": [
        "def sql_connection2():\n",
        "  try:\n",
        "    con=sql.connect('database.db')\n",
        "    return con\n",
        "  except Error:\n",
        "    print(Error)\n",
        "\n",
        "def sql_table2(con):\n",
        "  cur.execute(\"\"\"CREATE TABLE IF NOT EXISTS salesdata\n",
        "              (date text,sales integer)\"\"\")\n",
        "  con.commit()\n",
        "\n",
        "con=sql_connection()\n",
        "sql_table2(con)"
      ],
      "execution_count": 7,
      "outputs": []
    },
    {
      "cell_type": "code",
      "metadata": {
        "id": "yv-I0hkod0Rd"
      },
      "source": [
        "def sql_insert2(con,entities):\n",
        "  cur=con.cursor()\n",
        "  cur.executemany('INSERT INTO salesdata(date, sales) VALUES(?,?)',entities)\n",
        "  con.commit()\n",
        "\n",
        "entities=[(\"2021-01-01\",100),\n",
        "          (\"2021-01-02\",34),\n",
        "          (\"2021-01-02\",123),\n",
        "          (\"2021-01-02\",134),\n",
        "          (\"2021-01-03\",145),\n",
        "          (\"2021-01-03\",24),\n",
        "          (\"2021-01-04\",541),\n",
        "          (\"2021-01-04\",636),\n",
        "          (\"2021-01-05\",322),\n",
        "          (\"2021-01-06\",242),\n",
        "          (\"2021-01-07\",22),\n",
        "          (\"2021-01-08\",46)]\n",
        "\n",
        "sql_insert2(con,entities)"
      ],
      "execution_count": 8,
      "outputs": []
    },
    {
      "cell_type": "code",
      "metadata": {
        "colab": {
          "base_uri": "https://localhost:8080/"
        },
        "id": "SUl-ssfTd0UA",
        "outputId": "e483a578-ec4d-4c24-9007-340f9fd8eaa1"
      },
      "source": [
        "def sql_fetch_rolsum(con):\n",
        "  cur=con.cursor()\n",
        "  cur.execute(\"\"\"\n",
        "              SELECT * FROM salesdata \n",
        "              GROUP BY date \n",
        "              HAVING date=max(date) \n",
        "              ORDER BY date\n",
        "              \"\"\")\n",
        "  rows=cur.fetchall()\n",
        "  for row in rows:\n",
        "    print(row)\n",
        "sql_fetch_rolsum(con)"
      ],
      "execution_count": 9,
      "outputs": [
        {
          "output_type": "stream",
          "text": [
            "('2021-01-01', 100)\n",
            "('2021-01-02', 34)\n",
            "('2021-01-03', 145)\n",
            "('2021-01-04', 541)\n",
            "('2021-01-05', 322)\n",
            "('2021-01-06', 242)\n",
            "('2021-01-07', 22)\n",
            "('2021-01-08', 46)\n"
          ],
          "name": "stdout"
        }
      ]
    },
    {
      "cell_type": "code",
      "metadata": {
        "id": "bf9VBRrLdiUv"
      },
      "source": [
        ""
      ],
      "execution_count": 9,
      "outputs": []
    },
    {
      "cell_type": "markdown",
      "metadata": {
        "id": "GNJQ1jbfDYUm"
      },
      "source": [
        "Answer to question 3"
      ]
    },
    {
      "cell_type": "code",
      "metadata": {
        "id": "N_XTgDJ8ABoX"
      },
      "source": [
        "import pandas as pd\n",
        "import json\n",
        "import csv"
      ],
      "execution_count": 10,
      "outputs": []
    },
    {
      "cell_type": "code",
      "metadata": {
        "id": "Um2tuJ2NABl5"
      },
      "source": [
        "jsondata = [\n",
        "          {\n",
        "              \"user\": {\n",
        "                  \"id\": 1,\n",
        "                  \"name\": \"agus\",\n",
        "                  \"email\": \"agus@example.com\"\n",
        "              },\n",
        "              \"txs\": [\n",
        "                  {\n",
        "                      \"id\": 1,\n",
        "                      \"tx_date\": \"2020-01-01\",\n",
        "                      \"tx_amount\": 10,\n",
        "                      \"tx_type\": \"buy\"\n",
        "                  },\n",
        "                  {\n",
        "                      \"id\": 3,\n",
        "                      \"tx_date\": \"2020-02-01\",\n",
        "                      \"tx_amount\": 10,\n",
        "                      \"tx_type\": \"buy\"\n",
        "                  },\n",
        "                  {\n",
        "                      \"id\": 5,\n",
        "                      \"tx_date\": \"2020-03-01\",\n",
        "                      \"tx_amount\": 20,\n",
        "                      \"tx_type\": \"sell\"\n",
        "                  }\n",
        "              ]\n",
        "          },\n",
        "          {\n",
        "              \"user\": {\n",
        "                  \"id\": 2,\n",
        "                  \"name\": \"asep\",\n",
        "                  \"email\": \"asep@example.com\"\n",
        "              },\n",
        "              \"txs\": [\n",
        "                  {\n",
        "                      \"id\": 2,\n",
        "                      \"tx_date\": \"2020-01-01\",\n",
        "                      \"tx_amount\": 10,\n",
        "                      \"tx_type\": \"sell\"\n",
        "                  },\n",
        "                  {\n",
        "                      \"id\": 4,\n",
        "                      \"tx_date\": \"2020-02-01\",\n",
        "                      \"tx_amount\": 10,\n",
        "                      \"tx_type\": \"sell\"\n",
        "                  },\n",
        "                  {\n",
        "                      \"id\": 6,\n",
        "                      \"tx_date\": \"2020-03-01\",\n",
        "                      \"tx_amount\": 20,\n",
        "                      \"tx_type\": \"buy\"\n",
        "                  }\n",
        "              ]\n",
        "          }\n",
        "       ]"
      ],
      "execution_count": 11,
      "outputs": []
    },
    {
      "cell_type": "code",
      "metadata": {
        "colab": {
          "base_uri": "https://localhost:8080/",
          "height": 235
        },
        "id": "5tcxnNuBABhG",
        "outputId": "992e60b7-c7f9-41ec-aa17-292e2fc9568b"
      },
      "source": [
        "dataframe=pd.json_normalize(jsondata,'txs', [['user','id'], ['user','name'], ['user','email']])\n",
        "dataframe"
      ],
      "execution_count": 12,
      "outputs": [
        {
          "output_type": "execute_result",
          "data": {
            "text/html": [
              "<div>\n",
              "<style scoped>\n",
              "    .dataframe tbody tr th:only-of-type {\n",
              "        vertical-align: middle;\n",
              "    }\n",
              "\n",
              "    .dataframe tbody tr th {\n",
              "        vertical-align: top;\n",
              "    }\n",
              "\n",
              "    .dataframe thead th {\n",
              "        text-align: right;\n",
              "    }\n",
              "</style>\n",
              "<table border=\"1\" class=\"dataframe\">\n",
              "  <thead>\n",
              "    <tr style=\"text-align: right;\">\n",
              "      <th></th>\n",
              "      <th>id</th>\n",
              "      <th>tx_date</th>\n",
              "      <th>tx_amount</th>\n",
              "      <th>tx_type</th>\n",
              "      <th>user.id</th>\n",
              "      <th>user.name</th>\n",
              "      <th>user.email</th>\n",
              "    </tr>\n",
              "  </thead>\n",
              "  <tbody>\n",
              "    <tr>\n",
              "      <th>0</th>\n",
              "      <td>1</td>\n",
              "      <td>2020-01-01</td>\n",
              "      <td>10</td>\n",
              "      <td>buy</td>\n",
              "      <td>1</td>\n",
              "      <td>agus</td>\n",
              "      <td>agus@example.com</td>\n",
              "    </tr>\n",
              "    <tr>\n",
              "      <th>1</th>\n",
              "      <td>3</td>\n",
              "      <td>2020-02-01</td>\n",
              "      <td>10</td>\n",
              "      <td>buy</td>\n",
              "      <td>1</td>\n",
              "      <td>agus</td>\n",
              "      <td>agus@example.com</td>\n",
              "    </tr>\n",
              "    <tr>\n",
              "      <th>2</th>\n",
              "      <td>5</td>\n",
              "      <td>2020-03-01</td>\n",
              "      <td>20</td>\n",
              "      <td>sell</td>\n",
              "      <td>1</td>\n",
              "      <td>agus</td>\n",
              "      <td>agus@example.com</td>\n",
              "    </tr>\n",
              "    <tr>\n",
              "      <th>3</th>\n",
              "      <td>2</td>\n",
              "      <td>2020-01-01</td>\n",
              "      <td>10</td>\n",
              "      <td>sell</td>\n",
              "      <td>2</td>\n",
              "      <td>asep</td>\n",
              "      <td>asep@example.com</td>\n",
              "    </tr>\n",
              "    <tr>\n",
              "      <th>4</th>\n",
              "      <td>4</td>\n",
              "      <td>2020-02-01</td>\n",
              "      <td>10</td>\n",
              "      <td>sell</td>\n",
              "      <td>2</td>\n",
              "      <td>asep</td>\n",
              "      <td>asep@example.com</td>\n",
              "    </tr>\n",
              "    <tr>\n",
              "      <th>5</th>\n",
              "      <td>6</td>\n",
              "      <td>2020-03-01</td>\n",
              "      <td>20</td>\n",
              "      <td>buy</td>\n",
              "      <td>2</td>\n",
              "      <td>asep</td>\n",
              "      <td>asep@example.com</td>\n",
              "    </tr>\n",
              "  </tbody>\n",
              "</table>\n",
              "</div>"
            ],
            "text/plain": [
              "   id     tx_date  tx_amount tx_type user.id user.name        user.email\n",
              "0   1  2020-01-01         10     buy       1      agus  agus@example.com\n",
              "1   3  2020-02-01         10     buy       1      agus  agus@example.com\n",
              "2   5  2020-03-01         20    sell       1      agus  agus@example.com\n",
              "3   2  2020-01-01         10    sell       2      asep  asep@example.com\n",
              "4   4  2020-02-01         10    sell       2      asep  asep@example.com\n",
              "5   6  2020-03-01         20     buy       2      asep  asep@example.com"
            ]
          },
          "metadata": {
            "tags": []
          },
          "execution_count": 12
        }
      ]
    },
    {
      "cell_type": "code",
      "metadata": {
        "id": "PO5clwxZABe0"
      },
      "source": [
        "csv1=dataframe[[\"user.id\",\"id\"]]\n",
        "csv1.to_csv(\"csv1.csv\",header= ['user_id', 'tx_id'],index= False)"
      ],
      "execution_count": 13,
      "outputs": []
    },
    {
      "cell_type": "code",
      "metadata": {
        "id": "yGjrS4B_ABbB"
      },
      "source": [
        "csv2 = dataframe[['user.id','user.name', 'user.email']].drop_duplicates().reset_index(drop=True)\n",
        "csv2.to_csv('csv2.csv', header= ['id', 'name', 'email'], index= False)"
      ],
      "execution_count": 14,
      "outputs": []
    },
    {
      "cell_type": "code",
      "metadata": {
        "id": "z2omXycdABYo"
      },
      "source": [
        "csv3 = dataframe[['id', 'tx_date', 'tx_amount', 'tx_type']].sort_values('tx_date')\n",
        "csv3.to_csv('csv3.csv', index = False)"
      ],
      "execution_count": 15,
      "outputs": []
    }
  ]
}
